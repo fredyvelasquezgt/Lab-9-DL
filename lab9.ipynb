{
 "cells": [
  {
   "cell_type": "markdown",
   "source": [
    "# Laboratorio 9 - Deep Learning\n",
    "\n",
    "### Autores\n",
    "\n",
    "- Angel Higueros 20460\n",
    "- Fredy Velasquez 201011"
   ],
   "metadata": {}
  }
 ],
 "metadata": {
  "orig_nbformat": 4,
  "language_info": {
   "name": "python"
  }
 },
 "nbformat": 4,
 "nbformat_minor": 2
}