{
 "cells": [
  {
   "cell_type": "markdown",
   "source": [
    "# Laboratorio 9 - Deep Learning\n",
    "\n",
    "### Autores\n",
    "\n",
    "- Angel Higueros 20460\n",
    "- Fredy Velasquez 201011"
   ],
   "metadata": {}
  },
  {
   "cell_type": "markdown",
   "source": [
    "## Task 1 - Práctica"
   ],
   "metadata": {}
  },
  {
   "cell_type": "markdown",
   "source": [
    "### 1. Preparación de datos"
   ],
   "metadata": {}
  },
  {
   "cell_type": "code",
   "execution_count": 26,
   "source": [
    "# Importa las bibliotecas necesarias\n",
    "import pandas as pd\n",
    "import numpy as np\n",
    "from sklearn.preprocessing import MinMaxScaler\n",
    "from tensorflow.keras.models import Sequential\n",
    "from tensorflow.keras.layers import LSTM, Dense, Dropout\n",
    "from sklearn.model_selection import train_test_split"
   ],
   "outputs": [],
   "metadata": {}
  },
  {
   "cell_type": "code",
   "execution_count": 33,
   "source": [
    "\n",
    "\n",
    "data_path = \"./demand-forecasting-kernels-only/train.csv\"\n",
    "\n",
    "data = pd.read_csv(data_path)\n",
    "\n",
    "# Verificando valores nulos\n",
    "print(data.isnull().sum())\n",
    "\n"
   ],
   "outputs": [
    {
     "output_type": "stream",
     "name": "stdout",
     "text": [
      "date     0\n",
      "store    0\n",
      "item     0\n",
      "sales    0\n",
      "dtype: int64\n"
     ]
    }
   ],
   "metadata": {}
  },
  {
   "cell_type": "code",
   "execution_count": 34,
   "source": [
    "# Muestra las columnas de cada DataFrame\n",
    "print(\"Columnas en data:\")\n",
    "print(data.columns)\n"
   ],
   "outputs": [
    {
     "output_type": "stream",
     "name": "stdout",
     "text": [
      "Columnas en data:\n",
      "Index(['date', 'store', 'item', 'sales'], dtype='object')\n"
     ]
    }
   ],
   "metadata": {}
  },
  {
   "cell_type": "code",
   "execution_count": 35,
   "source": [
    "print(\"Información de data:\")\n",
    "print(data.info())\n",
    "\n"
   ],
   "outputs": [
    {
     "output_type": "stream",
     "name": "stdout",
     "text": [
      "Información de train_df:\n",
      "<class 'pandas.core.frame.DataFrame'>\n",
      "RangeIndex: 913000 entries, 0 to 912999\n",
      "Data columns (total 4 columns):\n",
      " #   Column  Non-Null Count   Dtype \n",
      "---  ------  --------------   ----- \n",
      " 0   date    913000 non-null  object\n",
      " 1   store   913000 non-null  int64 \n",
      " 2   item    913000 non-null  int64 \n",
      " 3   sales   913000 non-null  int64 \n",
      "dtypes: int64(3), object(1)\n",
      "memory usage: 27.9+ MB\n",
      "None\n"
     ]
    }
   ],
   "metadata": {}
  },
  {
   "cell_type": "code",
   "execution_count": 36,
   "source": [
    "print(data['date'].dtype)\n",
    "print(data['date'].describe())\n"
   ],
   "outputs": [
    {
     "output_type": "stream",
     "name": "stdout",
     "text": [
      "object\n",
      "count         913000\n",
      "unique          1826\n",
      "top       2013-01-01\n",
      "freq             500\n",
      "Name: date, dtype: object\n"
     ]
    }
   ],
   "metadata": {}
  },
  {
   "cell_type": "code",
   "execution_count": 37,
   "source": [
    "# Convertir la columna 'date' a datetime\n",
    "data['date'] = pd.to_datetime(data['date'])\n",
    "\n",
    "# Escalado de la columna 'sales'\n",
    "scaler = MinMaxScaler(feature_range=(0, 1))\n",
    "data['sales'] = scaler.fit_transform(data[['sales']])\n"
   ],
   "outputs": [],
   "metadata": {}
  },
  {
   "cell_type": "code",
   "execution_count": 38,
   "source": [
    "# Asumiendo que 'data' es tu DataFrame y ya has realizado la limpieza y escalado\n",
    "train_data = data[data['date'] < '2017-01-01']\n",
    "test_data = data[data['date'] >= '2017-01-01']\n",
    "\n",
    "# Debes asegurarte de que solo estés trabajando con la columna que deseas predecir, en este caso, 'sales'\n",
    "train_data = train_data[['sales']].values\n",
    "test_data = test_data[['sales']].values"
   ],
   "outputs": [],
   "metadata": {}
  },
  {
   "cell_type": "code",
   "execution_count": 11,
   "source": [
    "data['year'] = data['date'].dt.year\n",
    "data['month'] = data['date'].dt.month\n",
    "data['day'] = data['date'].dt.day"
   ],
   "outputs": [],
   "metadata": {}
  },
  {
   "cell_type": "code",
   "execution_count": 39,
   "source": [
    "def create_sequences(data, window_size):\n",
    "    X, y = [], []\n",
    "    for i in range(len(data) - window_size):\n",
    "        X.append(data[i:(i + window_size), 0])\n",
    "        y.append(data[i + window_size, 0])\n",
    "    return np.array(X), np.array(y)"
   ],
   "outputs": [],
   "metadata": {}
  },
  {
   "cell_type": "code",
   "execution_count": 40,
   "source": [
    "# Definir el tamaño de la ventana\n",
    "window_size = 60  # Por ejemplo, usar los 60 puntos de datos anteriores para predecir el siguiente\n",
    "\n",
    "# Crear secuencias para entrenamiento\n",
    "X_train, y_train = create_sequences(train_data, window_size)\n",
    "\n",
    "# Crear secuencias para prueba\n",
    "X_test, y_test = create_sequences(test_data, window_size)\n",
    "\n",
    "# Es importante que los datos estén en la forma correcta para alimentar a la LSTM\n",
    "# Reshape [samples, time steps, features]\n",
    "X_train = np.reshape(X_train, (X_train.shape[0], X_train.shape[1], 1))\n",
    "X_test = np.reshape(X_test, (X_test.shape[0], X_test.shape[1], 1))\n",
    "\n",
    "# Dividir los datos de entrenamiento para crear un conjunto de validación\n",
    "X_train, X_val, y_train, y_val = train_test_split(X_train, y_train, test_size=0.2, shuffle=False)"
   ],
   "outputs": [],
   "metadata": {}
  },
  {
   "cell_type": "code",
   "execution_count": null,
   "source": [],
   "outputs": [],
   "metadata": {}
  },
  {
   "cell_type": "code",
   "execution_count": 4,
   "source": [
    "train_df.dropna(inplace=True)\n",
    "test_df.dropna(inplace=True)"
   ],
   "outputs": [],
   "metadata": {}
  },
  {
   "cell_type": "code",
   "execution_count": 13,
   "source": [
    "import matplotlib.pyplot as plt\n",
    "\n",
    "plt.figure(figsize=(12, 6))\n",
    "plt.plot(data['date'], data['sales'], marker='o', linestyle='-')\n",
    "plt.xlabel('Fecha')\n",
    "plt.ylabel('Ventas')\n",
    "plt.title('Ventas a lo largo del tiempo')\n",
    "plt.grid(True)\n",
    "plt.show()\n",
    "\n",
    "# Imprimir los valores de las ventas a lo largo del tiempo\n",
    "print(\"Valores de las ventas a lo largo del tiempo:\")\n",
    "print(data[['date', 'sales']])\n",
    "\n"
   ],
   "outputs": [
    {
     "output_type": "display_data",
     "data": {
      "text/plain": [
       "<Figure size 1200x600 with 1 Axes>"
      ],
      "image/png": "[encoded data removed]"
     },
     "metadata": {}
    },
    {
     "output_type": "stream",
     "name": "stdout",
     "text": [
      "Valores de las ventas a lo largo del tiempo:\n",
      "             date     sales\n",
      "0      2013-01-01 -1.362804\n",
      "211816 2013-01-01 -0.911433\n",
      "832656 2013-01-01 -0.876712\n",
      "213642 2013-01-01  0.060752\n",
      "215468 2013-01-01 -0.598945\n",
      "...           ...       ...\n",
      "619013 2017-12-31 -1.085037\n",
      "620839 2017-12-31 -0.703107\n",
      "622665 2017-12-31  0.095472\n",
      "598927 2017-12-31  1.657911\n",
      "912999 2017-12-31  1.032936\n",
      "\n",
      "[913000 rows x 2 columns]\n"
     ]
    }
   ],
   "metadata": {}
  },
  {
   "cell_type": "code",
   "execution_count": 5,
   "source": [
    "from sklearn.preprocessing import StandardScaler\n",
    "\n",
    "\n",
    "# Selecciona las columnas relevantes para la normalización en 'train_df'\n",
    "columnas_numericas = ['sales']\n",
    "\n",
    "# Crea un objeto StandardScaler\n",
    "scaler = StandardScaler()\n",
    "\n",
    "# Ajusta el escalador en los datos de entrenamiento y transforma los datos\n",
    "train_df[columnas_numericas] = scaler.fit_transform(train_df[columnas_numericas])\n",
    "\n",
    "# Verifica los datos transformados en 'train_df'\n",
    "print(\"Datos de entrenamiento normalizados:\")\n",
    "print(train_df.head())\n"
   ],
   "outputs": [
    {
     "output_type": "stream",
     "name": "stdout",
     "text": [
      "Datos de entrenamiento normalizados:\n",
      "         date  store  item     sales\n",
      "0  2013-01-01      1     1 -1.362804\n",
      "1  2013-01-02      1     1 -1.432246\n",
      "2  2013-01-03      1     1 -1.328083\n",
      "3  2013-01-04      1     1 -1.362804\n",
      "4  2013-01-05      1     1 -1.466966\n"
     ]
    }
   ],
   "metadata": {}
  },
  {
   "cell_type": "code",
   "execution_count": 6,
   "source": [
    "# Preprocesamiento de Datos\n",
    "\n",
    "# División de series temporales\n",
    "\n",
    "# Supongamos que tienes una columna de fecha llamada \"date\" en tus datos.\n",
    "# Ordena los datos por fecha para asegurarte de que los más recientes estén en el conjunto de prueba.\n",
    "train_df['date'] = pd.to_datetime(train_df['date'])\n",
    "train_df.sort_values(by='date', inplace=True)\n",
    "\n",
    "# Define la fecha de corte para separar los datos en entrenamiento, validación y prueba.\n",
    "fecha_corte_validacion = '2022-07-01'\n",
    "fecha_corte_prueba = '2022-10-01'\n",
    "\n",
    "# Conjunto de entrenamiento\n",
    "train_set = train_df[train_df['date'] < fecha_corte_validacion]\n",
    "\n",
    "# Conjunto de validación\n",
    "validation_set = train_df[(train_df['date'] >= fecha_corte_validacion) & (train_df['date'] < fecha_corte_prueba)]\n",
    "\n",
    "# Conjunto de prueba\n",
    "test_set = train_df[train_df['date'] >= fecha_corte_prueba]\n",
    "\n",
    "# Generación de secuencias\n",
    "\n",
    "# Define la ventana de tiempo histórico que deseas utilizar para predecir los próximos 3 meses.\n",
    "ventana_historica = 90  # Por ejemplo, utiliza los últimos 90 días para predecir 3 meses.\n",
    "\n",
    "def crear_secuencias(df, ventana_historica):\n",
    "    secuencias = []\n",
    "    objetivos = []\n",
    "    for i in range(len(df) - ventana_historica):\n",
    "        secuencia = df['sales'].values[i:i+ventana_historica]\n",
    "        objetivo = df['sales'].values[i+ventana_historica:i+ventana_historica+90]  # Pronóstico de 3 meses\n",
    "        secuencias.append(secuencia)\n",
    "        objetivos.append(objetivo)\n",
    "    return np.array(secuencias), np.array(objetivos)\n",
    "\n",
    "# Crea secuencias para los conjuntos de entrenamiento, validación y prueba\n",
    "x_train, y_train = crear_secuencias(train_set, ventana_historica)\n",
    "x_validation, y_validation = crear_secuencias(validation_set, ventana_historica)\n",
    "x_test, y_test = crear_secuencias(test_set, ventana_historica)\n",
    "\n",
    "# Verifica las dimensiones de los conjuntos de datos\n",
    "print(\"Dimensiones de x_train:\", x_train.shape)\n",
    "print(\"Dimensiones de y_train:\", y_train.shape)\n",
    "print(\"Dimensiones de x_validation:\", x_validation.shape)\n",
    "print(\"Dimensiones de y_validation:\", y_validation.shape)\n",
    "print(\"Dimensiones de x_test:\", x_test.shape)\n",
    "print(\"Dimensiones de y_test:\", y_test.shape)"
   ],
   "outputs": [
    {
     "output_type": "stream",
     "name": "stdout",
     "text": [
      "Dimensiones de x_train: (912910, 90)\n",
      "Dimensiones de y_train: (912910,)\n",
      "Dimensiones de x_validation: (0,)\n",
      "Dimensiones de y_validation: (0,)\n",
      "Dimensiones de x_test: (0,)\n",
      "Dimensiones de y_test: (0,)\n"
     ]
    },
    {
     "output_type": "stream",
     "name": "stderr",
     "text": [
      "/var/folders/h4/rlgjjv6s50z2sflx2_9bt49h0000gn/T/ipykernel_23436/1422878017.py:36: VisibleDeprecationWarning: Creating an ndarray from ragged nested sequences (which is a list-or-tuple of lists-or-tuples-or ndarrays with different lengths or shapes) is deprecated. If you meant to do this, you must specify 'dtype=object' when creating the ndarray.\n",
      "  return np.array(secuencias), np.array(objetivos)\n"
     ]
    }
   ],
   "metadata": {}
  },
  {
   "cell_type": "code",
   "execution_count": 14,
   "source": [
    "import pandas as pd\n",
    "import numpy as np\n",
    "\n",
    "# Carga los datos CSV en DataFrames de pandas\n",
    "train_df = pd.read_csv('demand-forecasting-kernels-only/train.csv')\n",
    "\n",
    "# Convierte la columna 'date' en tipo datetime\n",
    "train_df['date'] = pd.to_datetime(train_df['date'])\n",
    "\n",
    "# Define la fecha de corte para separar los datos en conjuntos de entrenamiento, validación y prueba\n",
    "fecha_corte_validacion = train_df['date'].max() - pd.DateOffset(months=3)\n",
    "fecha_corte_prueba = train_df['date'].max()\n",
    "\n",
    "# Divide los datos en conjuntos de entrenamiento, validación y prueba\n",
    "train_set = train_df[train_df['date'] < fecha_corte_validacion]\n",
    "validation_set = train_df[(train_df['date'] >= fecha_corte_validacion) & (train_df['date'] < fecha_corte_prueba)]\n",
    "test_set = train_df[train_df['date'] >= fecha_corte_prueba]\n",
    "\n",
    "# Define la ventana de tiempo histórico que deseas utilizar para predecir los próximos 3 meses\n",
    "ventana_historica = 90  # Por ejemplo, utiliza los últimos 90 días para predecir 3 meses\n",
    "\n",
    "# Función para crear secuencias de datos\n",
    "def crear_secuencias(df, ventana_historica):\n",
    "    secuencias = []\n",
    "    objetivos = []\n",
    "    for i in range(len(df) - ventana_historica):\n",
    "        secuencia = df['sales'].values[i:i + ventana_historica]\n",
    "        objetivo = df['sales'].values[i + ventana_historica:i + ventana_historica + 90]  # Pronóstico de 3 meses\n",
    "        secuencias.append(secuencia)\n",
    "        objetivos.append(objetivo)\n",
    "    return np.array(secuencias), np.array(objetivos)\n",
    "\n",
    "# Crea secuencias para los conjuntos de entrenamiento, validación y prueba\n",
    "x_train, y_train = crear_secuencias(train_set, ventana_historica)\n",
    "x_validation, y_validation = crear_secuencias(validation_set, ventana_historica)\n",
    "x_test, y_test = crear_secuencias(test_set, ventana_historica)\n",
    "\n",
    "# Verifica las dimensiones de los conjuntos de datos\n",
    "print(\"Dimensiones de x_train:\", x_train.shape)\n",
    "print(\"Dimensiones de y_train:\", y_train.shape)\n",
    "print(\"Dimensiones de x_validation:\", x_validation.shape)\n",
    "print(\"Dimensiones de y_validation:\", y_validation.shape)\n",
    "print(\"Dimensiones de x_test:\", x_test.shape)\n",
    "print(\"Dimensiones de y_test:\", y_test.shape)\n"
   ],
   "outputs": [
    {
     "output_type": "stream",
     "name": "stderr",
     "text": [
      "/var/folders/h4/rlgjjv6s50z2sflx2_9bt49h0000gn/T/ipykernel_23436/3295337749.py:31: VisibleDeprecationWarning: Creating an ndarray from ragged nested sequences (which is a list-or-tuple of lists-or-tuples-or ndarrays with different lengths or shapes) is deprecated. If you meant to do this, you must specify 'dtype=object' when creating the ndarray.\n",
      "  return np.array(secuencias), np.array(objetivos)\n"
     ]
    },
    {
     "output_type": "stream",
     "name": "stdout",
     "text": [
      "Dimensiones de x_train: (866410, 90)\n",
      "Dimensiones de y_train: (866410,)\n",
      "Dimensiones de x_validation: (45910, 90)\n",
      "Dimensiones de y_validation: (45910,)\n",
      "Dimensiones de x_test: (410, 90)\n",
      "Dimensiones de y_test: (410,)\n"
     ]
    }
   ],
   "metadata": {}
  },
  {
   "cell_type": "code",
   "execution_count": 16,
   "source": [
    "!pip install tensorflow\n"
   ],
   "outputs": [
    {
     "output_type": "stream",
     "name": "stdout",
     "text": [
      "Collecting tensorflow\n",
      "  Downloading tensorflow-2.14.0-cp310-cp310-macosx_12_0_arm64.whl (2.1 kB)\n",
      "Collecting tensorflow-macos==2.14.0\n",
      "  Downloading tensorflow_macos-2.14.0-cp310-cp310-macosx_12_0_arm64.whl (199.7 MB)\n",
      "\u001b[2K     \u001b[90m━━━━━━━━━━━━━━━━━━━━━━━━━━━━━━━━━━━━━━━\u001b[0m \u001b[32m199.7/199.7 MB\u001b[0m \u001b[31m6.9 MB/s\u001b[0m eta \u001b[36m0:00:00\u001b[0m\n",
      "\u001b[?25hCollecting absl-py>=1.0.0\n",
      "  Downloading absl_py-2.0.0-py3-none-any.whl (130 kB)\n",
      "\u001b[2K     \u001b[90m━━━━━━━━━━━━━━━━━━━━━━━━━━━━━━━━━━━━━━━\u001b[0m \u001b[32m130.2/130.2 kB\u001b[0m \u001b[31m4.5 MB/s\u001b[0m eta \u001b[36m0:00:00\u001b[0m\n",
      "\u001b[?25hCollecting tensorflow-io-gcs-filesystem>=0.23.1\n",
      "  Downloading tensorflow_io_gcs_filesystem-0.34.0-cp310-cp310-macosx_12_0_arm64.whl (1.9 MB)\n",
      "\u001b[2K     \u001b[90m━━━━━━━━━━━━━━━━━━━━━━━━━━━━━━━━━━━━━━━━\u001b[0m \u001b[32m1.9/1.9 MB\u001b[0m \u001b[31m10.5 MB/s\u001b[0m eta \u001b[36m0:00:00\u001b[0m\n",
      "\u001b[?25hCollecting tensorboard<2.15,>=2.14\n",
      "  Downloading tensorboard-2.14.1-py3-none-any.whl (5.5 MB)\n",
      "\u001b[2K     \u001b[90m━━━━━━━━━━━━━━━━━━━━━━━━━━━━━━━━━━━━━━━━\u001b[0m \u001b[32m5.5/5.5 MB\u001b[0m \u001b[31m18.4 MB/s\u001b[0m eta \u001b[36m0:00:00\u001b[0m\n",
      "\u001b[?25hCollecting keras<2.15,>=2.14.0\n",
      "  Downloading keras-2.14.0-py3-none-any.whl (1.7 MB)\n",
      "\u001b[2K     \u001b[90m━━━━━━━━━━━━━━━━━━━━━━━━━━━━━━━━━━━━━━━━\u001b[0m \u001b[32m1.7/1.7 MB\u001b[0m \u001b[31m17.0 MB/s\u001b[0m eta \u001b[36m0:00:00\u001b[0m\n",
      "\u001b[?25hCollecting libclang>=13.0.0\n",
      "  Downloading libclang-16.0.6-py2.py3-none-macosx_11_0_arm64.whl (20.6 MB)\n",
      "\u001b[2K     \u001b[90m━━━━━━━━━━━━━━━━━━━━━━━━━━━━━━━━━━━━━━━━\u001b[0m \u001b[32m20.6/20.6 MB\u001b[0m \u001b[31m18.5 MB/s\u001b[0m eta \u001b[36m0:00:00\u001b[0m\n",
      "\u001b[?25hCollecting astunparse>=1.6.0\n",
      "  Using cached astunparse-1.6.3-py2.py3-none-any.whl (12 kB)\n",
      "Collecting google-pasta>=0.1.1\n",
      "  Using cached google_pasta-0.2.0-py3-none-any.whl (57 kB)\n",
      "Collecting flatbuffers>=23.5.26\n",
      "  Using cached flatbuffers-23.5.26-py2.py3-none-any.whl (26 kB)\n",
      "Collecting tensorflow-estimator<2.15,>=2.14.0\n",
      "  Downloading tensorflow_estimator-2.14.0-py2.py3-none-any.whl (440 kB)\n",
      "\u001b[2K     \u001b[90m━━━━━━━━━━━━━━━━━━━━━━━━━━━━━━━━━━━━━━\u001b[0m \u001b[32m440.7/440.7 kB\u001b[0m \u001b[31m10.2 MB/s\u001b[0m eta \u001b[36m0:00:00\u001b[0m\n",
      "\u001b[?25hRequirement already satisfied: numpy>=1.23.5 in /Users/fredyvelasquez/anaconda3/lib/python3.10/site-packages (from tensorflow-macos==2.14.0->tensorflow) (1.23.5)\n",
      "Collecting opt-einsum>=2.3.2\n",
      "  Using cached opt_einsum-3.3.0-py3-none-any.whl (65 kB)\n",
      "Collecting gast!=0.5.0,!=0.5.1,!=0.5.2,>=0.2.1\n",
      "  Downloading gast-0.5.4-py3-none-any.whl (19 kB)\n",
      "Requirement already satisfied: six>=1.12.0 in /Users/fredyvelasquez/anaconda3/lib/python3.10/site-packages (from tensorflow-macos==2.14.0->tensorflow) (1.16.0)\n",
      "Requirement already satisfied: h5py>=2.9.0 in /Users/fredyvelasquez/anaconda3/lib/python3.10/site-packages (from tensorflow-macos==2.14.0->tensorflow) (3.7.0)\n",
      "Collecting protobuf!=4.21.0,!=4.21.1,!=4.21.2,!=4.21.3,!=4.21.4,!=4.21.5,<5.0.0dev,>=3.20.3\n",
      "  Downloading protobuf-4.24.4-cp37-abi3-macosx_10_9_universal2.whl (409 kB)\n",
      "\u001b[2K     \u001b[90m━━━━━━━━━━━━━━━━━━━━━━━━━━━━━━━━━━━━━━\u001b[0m \u001b[32m409.4/409.4 kB\u001b[0m \u001b[31m12.3 MB/s\u001b[0m eta \u001b[36m0:00:00\u001b[0m\n",
      "\u001b[?25hRequirement already satisfied: wrapt<1.15,>=1.11.0 in /Users/fredyvelasquez/anaconda3/lib/python3.10/site-packages (from tensorflow-macos==2.14.0->tensorflow) (1.14.1)\n",
      "Requirement already satisfied: typing-extensions>=3.6.6 in /Users/fredyvelasquez/anaconda3/lib/python3.10/site-packages (from tensorflow-macos==2.14.0->tensorflow) (4.7.1)\n",
      "Collecting ml-dtypes==0.2.0\n",
      "  Downloading ml_dtypes-0.2.0-cp310-cp310-macosx_10_9_universal2.whl (1.2 MB)\n",
      "\u001b[2K     \u001b[90m━━━━━━━━━━━━━━━━━━━━━━━━━━━━━━━━━━━━━━━━\u001b[0m \u001b[32m1.2/1.2 MB\u001b[0m \u001b[31m16.8 MB/s\u001b[0m eta \u001b[36m0:00:00\u001b[0m\n",
      "\u001b[?25hCollecting grpcio<2.0,>=1.24.3\n",
      "  Downloading grpcio-1.59.0-cp310-cp310-macosx_12_0_universal2.whl (9.5 MB)\n",
      "\u001b[2K     \u001b[90m━━━━━━━━━━━━━━━━━━━━━━━━━━━━━━━━━━━━━━━━\u001b[0m \u001b[32m9.5/9.5 MB\u001b[0m \u001b[31m20.5 MB/s\u001b[0m eta \u001b[36m0:00:00\u001b[0m\n",
      "\u001b[?25hRequirement already satisfied: setuptools in /Users/fredyvelasquez/anaconda3/lib/python3.10/site-packages (from tensorflow-macos==2.14.0->tensorflow) (65.6.3)\n",
      "Requirement already satisfied: packaging in /Users/fredyvelasquez/anaconda3/lib/python3.10/site-packages (from tensorflow-macos==2.14.0->tensorflow) (22.0)\n",
      "Collecting termcolor>=1.1.0\n",
      "  Using cached termcolor-2.3.0-py3-none-any.whl (6.9 kB)\n",
      "Requirement already satisfied: wheel<1.0,>=0.23.0 in /Users/fredyvelasquez/anaconda3/lib/python3.10/site-packages (from astunparse>=1.6.0->tensorflow-macos==2.14.0->tensorflow) (0.38.4)\n",
      "Collecting google-auth<3,>=1.6.3\n",
      "  Downloading google_auth-2.23.3-py2.py3-none-any.whl (182 kB)\n",
      "\u001b[2K     \u001b[90m━━━━━━━━━━━━━━━━━━━━━━━━━━━━━━━━━━━━━━━\u001b[0m \u001b[32m182.3/182.3 kB\u001b[0m \u001b[31m6.8 MB/s\u001b[0m eta \u001b[36m0:00:00\u001b[0m\n",
      "\u001b[?25hRequirement already satisfied: markdown>=2.6.8 in /Users/fredyvelasquez/anaconda3/lib/python3.10/site-packages (from tensorboard<2.15,>=2.14->tensorflow-macos==2.14.0->tensorflow) (3.4.1)\n",
      "Collecting google-auth-oauthlib<1.1,>=0.5\n",
      "  Using cached google_auth_oauthlib-1.0.0-py2.py3-none-any.whl (18 kB)\n",
      "Collecting tensorboard-data-server<0.8.0,>=0.7.0\n",
      "  Downloading tensorboard_data_server-0.7.1-py3-none-any.whl (2.4 kB)\n",
      "Requirement already satisfied: werkzeug>=1.0.1 in /Users/fredyvelasquez/anaconda3/lib/python3.10/site-packages (from tensorboard<2.15,>=2.14->tensorflow-macos==2.14.0->tensorflow) (2.2.2)\n",
      "Requirement already satisfied: requests<3,>=2.21.0 in /Users/fredyvelasquez/anaconda3/lib/python3.10/site-packages (from tensorboard<2.15,>=2.14->tensorflow-macos==2.14.0->tensorflow) (2.28.1)\n",
      "Requirement already satisfied: pyasn1-modules>=0.2.1 in /Users/fredyvelasquez/anaconda3/lib/python3.10/site-packages (from google-auth<3,>=1.6.3->tensorboard<2.15,>=2.14->tensorflow-macos==2.14.0->tensorflow) (0.2.8)\n",
      "Collecting cachetools<6.0,>=2.0.0\n",
      "  Using cached cachetools-5.3.1-py3-none-any.whl (9.3 kB)\n",
      "Collecting rsa<5,>=3.1.4\n",
      "  Downloading rsa-4.9-py3-none-any.whl (34 kB)\n",
      "Collecting requests-oauthlib>=0.7.0\n",
      "  Using cached requests_oauthlib-1.3.1-py2.py3-none-any.whl (23 kB)\n",
      "Requirement already satisfied: charset-normalizer<3,>=2 in /Users/fredyvelasquez/anaconda3/lib/python3.10/site-packages (from requests<3,>=2.21.0->tensorboard<2.15,>=2.14->tensorflow-macos==2.14.0->tensorflow) (2.0.4)\n",
      "Requirement already satisfied: idna<4,>=2.5 in /Users/fredyvelasquez/anaconda3/lib/python3.10/site-packages (from requests<3,>=2.21.0->tensorboard<2.15,>=2.14->tensorflow-macos==2.14.0->tensorflow) (3.4)\n",
      "Requirement already satisfied: certifi>=2017.4.17 in /Users/fredyvelasquez/anaconda3/lib/python3.10/site-packages (from requests<3,>=2.21.0->tensorboard<2.15,>=2.14->tensorflow-macos==2.14.0->tensorflow) (2023.7.22)\n",
      "Requirement already satisfied: urllib3<1.27,>=1.21.1 in /Users/fredyvelasquez/anaconda3/lib/python3.10/site-packages (from requests<3,>=2.21.0->tensorboard<2.15,>=2.14->tensorflow-macos==2.14.0->tensorflow) (1.26.14)\n",
      "Requirement already satisfied: MarkupSafe>=2.1.1 in /Users/fredyvelasquez/anaconda3/lib/python3.10/site-packages (from werkzeug>=1.0.1->tensorboard<2.15,>=2.14->tensorflow-macos==2.14.0->tensorflow) (2.1.1)\n",
      "Requirement already satisfied: pyasn1<0.5.0,>=0.4.6 in /Users/fredyvelasquez/anaconda3/lib/python3.10/site-packages (from pyasn1-modules>=0.2.1->google-auth<3,>=1.6.3->tensorboard<2.15,>=2.14->tensorflow-macos==2.14.0->tensorflow) (0.4.8)\n",
      "Collecting oauthlib>=3.0.0\n",
      "  Using cached oauthlib-3.2.2-py3-none-any.whl (151 kB)\n",
      "Installing collected packages: libclang, flatbuffers, termcolor, tensorflow-io-gcs-filesystem, tensorflow-estimator, tensorboard-data-server, rsa, protobuf, opt-einsum, oauthlib, ml-dtypes, keras, grpcio, google-pasta, gast, cachetools, astunparse, absl-py, requests-oauthlib, google-auth, google-auth-oauthlib, tensorboard, tensorflow-macos, tensorflow\n",
      "Successfully installed absl-py-2.0.0 astunparse-1.6.3 cachetools-5.3.1 flatbuffers-23.5.26 gast-0.5.4 google-auth-2.23.3 google-auth-oauthlib-1.0.0 google-pasta-0.2.0 grpcio-1.59.0 keras-2.14.0 libclang-16.0.6 ml-dtypes-0.2.0 oauthlib-3.2.2 opt-einsum-3.3.0 protobuf-4.24.4 requests-oauthlib-1.3.1 rsa-4.9 tensorboard-2.14.1 tensorboard-data-server-0.7.1 tensorflow-2.14.0 tensorflow-estimator-2.14.0 tensorflow-io-gcs-filesystem-0.34.0 tensorflow-macos-2.14.0 termcolor-2.3.0\n"
     ]
    }
   ],
   "metadata": {}
  },
  {
   "cell_type": "code",
   "execution_count": 18,
   "source": [
    "test_df['date'] = pd.to_datetime(test_df['date'])\n"
   ],
   "outputs": [],
   "metadata": {}
  },
  {
   "cell_type": "code",
   "execution_count": 19,
   "source": [
    "# Convierte 'test_df' a series temporales\n",
    "test_series = test_df.set_index('date')\n",
    "\n",
    "# Asegúrate de que las fechas estén ordenadas en orden ascendente\n",
    "test_series = test_series.sort_index()\n"
   ],
   "outputs": [],
   "metadata": {}
  },
  {
   "cell_type": "code",
   "execution_count": 22,
   "source": [
    "import numpy as np\n",
    "\n",
    "def crear_secuencias(df, ventana_historica):\n",
    "    secuencias = []\n",
    "    objetivos = []\n",
    "    for i in range(len(df) - ventana_historica):\n",
    "        secuencia = df['sales'].values[i:i + ventana_historica]\n",
    "        objetivo = df['sales'].values[i + ventana_historica:i + ventana_historica + 90]  # Pronóstico de 3 meses\n",
    "        secuencias.append(secuencia)\n",
    "        objetivos.append(objetivo)\n",
    "    return np.array(secuencias, dtype=object), np.array(objetivos, dtype=object)\n",
    "\n",
    "\n"
   ],
   "outputs": [],
   "metadata": {}
  },
  {
   "cell_type": "code",
   "execution_count": 25,
   "source": [
    "import numpy as np\n",
    "import tensorflow as tf\n",
    "from tensorflow.keras.models import Sequential\n",
    "from tensorflow.keras.layers import LSTM, Dense, Dropout\n",
    "from tensorflow.keras.optimizers.legacy import Adam  # Importar el optimizador legacy Adam\n",
    "from tensorflow.keras.callbacks import EarlyStopping\n",
    "\n",
    "# Define la arquitectura del modelo\n",
    "modelo = Sequential()\n",
    "\n",
    "# Agrega una capa LSTM con un número adecuado de unidades (neuronas)\n",
    "modelo.add(LSTM(units=64, input_shape=(ventana_historica, 1), return_sequences=True))\n",
    "modelo.add(Dropout(0.2))\n",
    "\n",
    "# Agrega más capas LSTM o GRU si es necesario (experimenta según el rendimiento)\n",
    "# modelo.add(LSTM(units=64, return_sequences=True))\n",
    "# modelo.add(Dropout(0.2))\n",
    "\n",
    "# Agrega una capa densa para predicciones finales\n",
    "modelo.add(Dense(units=90))\n",
    "\n",
    "# Compila el modelo con el optimizador legacy Adam\n",
    "modelo.compile(optimizer=Adam(learning_rate=0.001), loss='mean_squared_error')\n",
    "\n",
    "# Define Early Stopping para prevenir el sobreajuste\n",
    "early_stopping = EarlyStopping(monitor='val_loss', patience=5, restore_best_weights=True)\n",
    "\n",
    "# Convierte las secuencias a NumPy arrays\n",
    "x_train = np.array(x_train)\n",
    "x_validation = np.array(x_validation)\n",
    "\n",
    "# Convierte los objetivos a tensores 2D (shape: [n_muestras, 90])\n",
    "y_train = np.vstack(y_train)\n",
    "y_validation = np.vstack(y_validation)\n",
    "\n",
    "# Entrena el modelo en los datos de entrenamiento y valida en los datos de validación\n",
    "historia = modelo.fit(x_train, y_train, epochs=50, batch_size=32, validation_data=(x_validation, y_validation), callbacks=[early_stopping])\n",
    "\n",
    "# Evalúa el modelo en el conjunto de prueba\n",
    "resultado = modelo.evaluate(x_test, y_test)\n",
    "print(\"Pérdida en el conjunto de prueba:\", resultado)\n"
   ],
   "outputs": [
    {
     "output_type": "error",
     "ename": "ValueError",
     "evalue": "all the input array dimensions for the concatenation axis must match exactly, but along dimension 1, the array at index 0 has size 90 and the array at index 912821 has size 89",
     "traceback": [
      "\u001b[0;31m---------------------------------------------------------------------------\u001b[0m",
      "\u001b[0;31mValueError\u001b[0m                                Traceback (most recent call last)",
      "Cell \u001b[0;32mIn[25], line 33\u001b[0m\n\u001b[1;32m     30\u001b[0m x_validation \u001b[38;5;241m=\u001b[39m np\u001b[38;5;241m.\u001b[39marray(x_validation)\n\u001b[1;32m     32\u001b[0m \u001b[38;5;66;03m# Convierte los objetivos a tensores 2D (shape: [n_muestras, 90])\u001b[39;00m\n\u001b[0;32m---> 33\u001b[0m y_train \u001b[38;5;241m=\u001b[39m \u001b[43mnp\u001b[49m\u001b[38;5;241;43m.\u001b[39;49m\u001b[43mvstack\u001b[49m\u001b[43m(\u001b[49m\u001b[43my_train\u001b[49m\u001b[43m)\u001b[49m\n\u001b[1;32m     34\u001b[0m y_validation \u001b[38;5;241m=\u001b[39m np\u001b[38;5;241m.\u001b[39mvstack(y_validation)\n\u001b[1;32m     36\u001b[0m \u001b[38;5;66;03m# Entrena el modelo en los datos de entrenamiento y valida en los datos de validación\u001b[39;00m\n",
      "File \u001b[0;32m<__array_function__ internals>:180\u001b[0m, in \u001b[0;36mvstack\u001b[0;34m(*args, **kwargs)\u001b[0m\n",
      "File \u001b[0;32m~/anaconda3/lib/python3.10/site-packages/numpy/core/shape_base.py:282\u001b[0m, in \u001b[0;36mvstack\u001b[0;34m(tup)\u001b[0m\n\u001b[1;32m    280\u001b[0m \u001b[38;5;28;01mif\u001b[39;00m \u001b[38;5;129;01mnot\u001b[39;00m \u001b[38;5;28misinstance\u001b[39m(arrs, \u001b[38;5;28mlist\u001b[39m):\n\u001b[1;32m    281\u001b[0m     arrs \u001b[38;5;241m=\u001b[39m [arrs]\n\u001b[0;32m--> 282\u001b[0m \u001b[38;5;28;01mreturn\u001b[39;00m \u001b[43m_nx\u001b[49m\u001b[38;5;241;43m.\u001b[39;49m\u001b[43mconcatenate\u001b[49m\u001b[43m(\u001b[49m\u001b[43marrs\u001b[49m\u001b[43m,\u001b[49m\u001b[43m \u001b[49m\u001b[38;5;241;43m0\u001b[39;49m\u001b[43m)\u001b[49m\n",
      "File \u001b[0;32m<__array_function__ internals>:180\u001b[0m, in \u001b[0;36mconcatenate\u001b[0;34m(*args, **kwargs)\u001b[0m\n",
      "\u001b[0;31mValueError\u001b[0m: all the input array dimensions for the concatenation axis must match exactly, but along dimension 1, the array at index 0 has size 90 and the array at index 912821 has size 89"
     ]
    }
   ],
   "metadata": {}
  },
  {
   "cell_type": "code",
   "execution_count": null,
   "source": [],
   "outputs": [],
   "metadata": {}
  },
  {
   "cell_type": "code",
   "execution_count": null,
   "source": [],
   "outputs": [],
   "metadata": {}
  },
  {
   "cell_type": "markdown",
   "source": [
    "## Task 2 - Teoria "
   ],
   "metadata": {}
  },
  {
   "cell_type": "markdown",
   "source": [
    "1. ¿Cuál es el problema del gradiente de fuga en las redes LSTM y cómo afecta la efectividad de LSTM para el pronóstico de series temporales?\n",
    "\n",
    "El problema del gradiente de fuga en las redes LSTM se refiere a la tendencia de los gradientes durante la retropropagación a volverse muy pequeños o muy grandes a medida que se propagan hacia atrás en el tiempo a través de muchas unidades de tiempo en una secuencia larga. Esto puede dificultar el entrenamiento efectivo de modelos LSTM para series temporales, ya que los gradientes pequeños pueden llevar a un entrenamiento lento o a un estancamiento, mientras que los gradientes grandes pueden provocar explosiones del gradiente. Esto afecta la efectividad de LSTM para pronósticos de series temporales, ya que puede dificultar la captura de relaciones a largo plazo en los datos.\n",
    "\n",
    "2. ¿Cómo se aborda la estacionalidad en los datos de series temporales cuando se utilizan LSTM para realizar pronósticos y qué papel juega la diferenciación en el proceso?\n",
    "\n",
    "La estacionalidad en los datos de series temporales se aborda en LSTM mediante la diferenciación. La diferenciación implica calcular la diferencia entre valores sucesivos en la serie temporal para eliminar la tendencia y la estacionalidad. Esto convierte la serie en una serie estacionaria que es más fácil de modelar. La diferenciación ayuda a que LSTM capture mejor los patrones temporales en los datos y mejore la precisión de los pronósticos.\n",
    "\n",
    "3. ¿Cuál es el concepto de \"tamaño de ventana\" en el pronóstico de series temporales con LSTM y cómo afecta la elección del tamaño de ventana a la capacidad del modelo para capturar patrones a corto y largo plazo?\n",
    "\n",
    "El \"tamaño de ventana\" en el pronóstico de series temporales con LSTM se refiere a la cantidad de pasos de tiempo anteriores que se utilizan como entrada para predecir el siguiente paso de tiempo. Un tamaño de ventana más grande permite al modelo capturar patrones a largo plazo en los datos, pero también puede hacer que el modelo sea menos sensible a patrones a corto plazo. Por otro lado, un tamaño de ventana más pequeño se centra en patrones a corto plazo, pero puede perder patrones a largo plazo. La elección del tamaño de ventana depende de la naturaleza de los datos y del equilibrio deseado entre la captura de patrones a corto y largo plazo."
   ],
   "metadata": {}
  }
 ],
 "metadata": {
  "orig_nbformat": 4,
  "language_info": {
   "name": "python",
   "version": "3.10.9",
   "mimetype": "text/x-python",
   "codemirror_mode": {
    "name": "ipython",
    "version": 3
   },
   "pygments_lexer": "ipython3",
   "nbconvert_exporter": "python",
   "file_extension": ".py"
  },
  "kernelspec": {
   "name": "python3",
   "display_name": "Python 3.10.9 64-bit ('base': conda)"
  },
  "interpreter": {
   "hash": "d25cdb5aa61f08ef17d60ae5a05baad298235cb381824c57cbe25a28ddd03979"
  }
 },
 "nbformat": 4,
 "nbformat_minor": 2
}