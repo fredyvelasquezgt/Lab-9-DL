{
  "nbformat": 4,
  "nbformat_minor": 0,
  "metadata": {
    "colab": {
      "provenance": [],
      "authorship_tag": "ABX9TyNLF+0OhfQ+EF2zUJF6d3Ww",
      "include_colab_link": true
    },
    "kernelspec": {
      "name": "python3",
      "display_name": "Python 3"
    },
    "language_info": {
      "name": "python"
    }
  },
  "cells": [
    {
      "cell_type": "markdown",
      "metadata": {
        "id": "view-in-github",
        "colab_type": "text"
      },
      "source": [
        "<a href=\"https://colab.research.google.com/github/fredyvelasquezgt/Lab-9-DL/blob/main/lab_9.ipynb\" target=\"_parent\"><img src=\"https://colab.research.google.com/assets/colab-badge.svg\" alt=\"Open In Colab\"/></a>"
      ]
    },
    {
      "cell_type": "markdown",
      "source": [
        "# Laboratorio 9 - Deep Learning"
      ],
      "metadata": {
        "id": "lEsPoxnNOGBP"
      }
    },
    {
      "cell_type": "markdown",
      "source": [
        "Autores\n",
        "\n",
        "- Angel Higueros 20460\n",
        "- Fredy Velasquez 2010111"
      ],
      "metadata": {
        "id": "J1Knb6WYOQU8"
      }
    },
    {
      "cell_type": "markdown",
      "source": [
        "### Task 1 - Práctica"
      ],
      "metadata": {
        "id": "Rnr2HiQQOSxF"
      }
    },
    {
      "cell_type": "markdown",
      "source": [
        "1. Preparacion de datos"
      ],
      "metadata": {
        "id": "s1GKL3t-OU4j"
      }
    },
    {
      "cell_type": "code",
      "source": [
        "import pandas as pd\n",
        "import numpy as np\n",
        "from sklearn.preprocessing import MinMaxScaler\n",
        "from tensorflow.keras.models import Sequential\n",
        "from tensorflow.keras.layers import LSTM, Dense, Dropout\n",
        "from sklearn.model_selection import train_test_split"
      ],
      "metadata": {
        "id": "rxE4jq0uOW9z"
      },
      "execution_count": 1,
      "outputs": []
    },
    {
      "cell_type": "code",
      "source": [
        "data_path = \"/train.csv\"\n",
        "\n",
        "data = pd.read_csv(data_path)"
      ],
      "metadata": {
        "id": "yVcfdGjKPQxy"
      },
      "execution_count": 3,
      "outputs": []
    },
    {
      "cell_type": "code",
      "source": [
        "# Verificando valores nulos\n",
        "print(data.isnull().sum())"
      ],
      "metadata": {
        "colab": {
          "base_uri": "https://localhost:8080/"
        },
        "id": "6SAJWP7OPfm7",
        "outputId": "e6e1c530-9203-4bdf-bc21-9e99f70bcfa7"
      },
      "execution_count": 4,
      "outputs": [
        {
          "output_type": "stream",
          "name": "stdout",
          "text": [
            "date     0\n",
            "store    0\n",
            "item     0\n",
            "sales    0\n",
            "dtype: int64\n"
          ]
        }
      ]
    },
    {
      "cell_type": "code",
      "source": [
        "# Convertir la columna 'date' a datetime\n",
        "data['date'] = pd.to_datetime(data['date'])\n",
        "\n",
        "# Escalado de la columna 'sales'\n",
        "scaler = MinMaxScaler(feature_range=(0, 1))\n",
        "data['sales'] = scaler.fit_transform(data[['sales']])"
      ],
      "metadata": {
        "id": "is-eirxjPmMq"
      },
      "execution_count": 5,
      "outputs": []
    },
    {
      "cell_type": "markdown",
      "source": [
        "2. Preparacion de datos"
      ],
      "metadata": {
        "id": "gkHZFDpIPotL"
      }
    },
    {
      "cell_type": "code",
      "source": [
        "# Asumiendo que 'data' es tu DataFrame y ya has realizado la limpieza y escalado\n",
        "train_data = data[data['date'] < '2016-01-01']\n",
        "test_data = data[data['date'] >= '2016-01-01']\n",
        "\n",
        "# Debes asegurarte de que solo estés trabajando con la columna que deseas predecir, en este caso, 'sales'\n",
        "train_data = train_data[['sales']].values\n",
        "test_data = test_data[['sales']].values\n"
      ],
      "metadata": {
        "id": "cKibe9wdPqmx"
      },
      "execution_count": 6,
      "outputs": []
    },
    {
      "cell_type": "code",
      "source": [
        "def create_sequences(data, window_size):\n",
        "    X, y = [], []\n",
        "    for i in range(len(data) - window_size):\n",
        "        X.append(data[i:(i + window_size), 0])\n",
        "        y.append(data[i + window_size, 0])\n",
        "    return np.array(X), np.array(y)"
      ],
      "metadata": {
        "id": "TurK52OgP1GN"
      },
      "execution_count": 7,
      "outputs": []
    },
    {
      "cell_type": "code",
      "source": [
        "window_size = 60  # Por ejemplo, usar los 60 puntos de datos anteriores para predecir el siguiente\n",
        "\n",
        "# Crear secuencias para entrenamiento\n",
        "X_train, y_train = create_sequences(train_data, window_size)\n",
        "\n",
        "# Crear secuencias para prueba\n",
        "X_test, y_test = create_sequences(test_data, window_size)\n",
        "\n",
        "# Es importante que los datos estén en la forma correcta para alimentar a la LSTM\n",
        "# Reshape [samples, time steps, features]\n",
        "X_train = np.reshape(X_train, (X_train.shape[0], X_train.shape[1], 1))\n",
        "X_test = np.reshape(X_test, (X_test.shape[0], X_test.shape[1], 1))\n",
        "\n",
        "# Dividir los datos de entrenamiento para crear un conjunto de validación\n",
        "X_train, X_val, y_train, y_val = train_test_split(X_train, y_train, test_size=0.2, shuffle=False)\n"
      ],
      "metadata": {
        "id": "QVR6_D1AP25G"
      },
      "execution_count": 8,
      "outputs": []
    },
    {
      "cell_type": "markdown",
      "source": [
        "3. Seleccion de modelo\n",
        "\n",
        "- Se usara LSTM"
      ],
      "metadata": {
        "id": "cI29Xv6GP40r"
      }
    },
    {
      "cell_type": "markdown",
      "source": [
        "4. Arquitectura del modelo"
      ],
      "metadata": {
        "id": "WknELKmNQH3K"
      }
    },
    {
      "cell_type": "code",
      "source": [
        "model = Sequential()\n",
        "model.add(LSTM(units=50, return_sequences=True, input_shape=(X_train.shape[1], 1)))\n",
        "model.add(Dropout(0.2))\n",
        "model.add(LSTM(units=50))\n",
        "model.add(Dropout(0.2))\n",
        "model.add(Dense(units=1)) # Salida de una unidad para la predicción de ventas\n",
        "\n",
        "model.compile(optimizer='adam', loss='mean_squared_error')\n"
      ],
      "metadata": {
        "id": "UZtRpKzMQLj5"
      },
      "execution_count": 9,
      "outputs": []
    },
    {
      "cell_type": "markdown",
      "source": [
        "5. Entrenamiento del modelo"
      ],
      "metadata": {
        "id": "vHz_6vs1QPUD"
      }
    },
    {
      "cell_type": "code",
      "source": [
        "# Entrenar el modelo\n",
        "model.fit(X_train, y_train, epochs=50, batch_size=32, validation_data=(X_val, y_val))"
      ],
      "metadata": {
        "colab": {
          "base_uri": "https://localhost:8080/"
        },
        "id": "1jjGK-noQRAr",
        "outputId": "bd1f858e-82ec-4d85-9ca7-8e5be8d9a2cc"
      },
      "execution_count": 10,
      "outputs": [
        {
          "output_type": "stream",
          "name": "stdout",
          "text": [
            "Epoch 1/50\n",
            "13686/13686 [==============================] - 414s 30ms/step - loss: 0.0019 - val_loss: 0.0011\n",
            "Epoch 2/50\n",
            "13686/13686 [==============================] - 406s 30ms/step - loss: 0.0014 - val_loss: 0.0010\n",
            "Epoch 3/50\n",
            "13686/13686 [==============================] - 404s 30ms/step - loss: 0.0014 - val_loss: 0.0010\n",
            "Epoch 4/50\n",
            "13686/13686 [==============================] - 403s 29ms/step - loss: 0.0014 - val_loss: 0.0011\n",
            "Epoch 5/50\n",
            "13686/13686 [==============================] - 404s 29ms/step - loss: 0.0013 - val_loss: 0.0010\n",
            "Epoch 6/50\n",
            "13686/13686 [==============================] - 404s 30ms/step - loss: 0.0013 - val_loss: 0.0010\n",
            "Epoch 7/50\n",
            "13686/13686 [==============================] - 404s 29ms/step - loss: 0.0013 - val_loss: 9.8134e-04\n",
            "Epoch 8/50\n",
            "13686/13686 [==============================] - 403s 29ms/step - loss: 0.0013 - val_loss: 9.8694e-04\n",
            "Epoch 9/50\n",
            "13686/13686 [==============================] - 404s 30ms/step - loss: 0.0013 - val_loss: 9.9559e-04\n",
            "Epoch 10/50\n",
            "13686/13686 [==============================] - 403s 29ms/step - loss: 0.0013 - val_loss: 9.8253e-04\n",
            "Epoch 11/50\n",
            "13686/13686 [==============================] - 390s 29ms/step - loss: 0.0013 - val_loss: 9.4764e-04\n",
            "Epoch 12/50\n",
            "13686/13686 [==============================] - 390s 28ms/step - loss: 0.0013 - val_loss: 9.6122e-04\n",
            "Epoch 13/50\n",
            "13686/13686 [==============================] - 405s 30ms/step - loss: 0.0013 - val_loss: 9.3870e-04\n",
            "Epoch 14/50\n",
            "13686/13686 [==============================] - 403s 29ms/step - loss: 0.0013 - val_loss: 9.5290e-04\n",
            "Epoch 15/50\n",
            "13686/13686 [==============================] - 404s 30ms/step - loss: 0.0012 - val_loss: 9.5054e-04\n",
            "Epoch 16/50\n",
            "13686/13686 [==============================] - 403s 29ms/step - loss: 0.0012 - val_loss: 9.3278e-04\n",
            "Epoch 17/50\n",
            "13686/13686 [==============================] - 405s 30ms/step - loss: 0.0012 - val_loss: 9.4261e-04\n",
            "Epoch 18/50\n",
            "13686/13686 [==============================] - 404s 30ms/step - loss: 0.0012 - val_loss: 9.3835e-04\n",
            "Epoch 19/50\n",
            "13686/13686 [==============================] - 397s 29ms/step - loss: 0.0012 - val_loss: 9.3221e-04\n",
            "Epoch 20/50\n",
            "13686/13686 [==============================] - 398s 29ms/step - loss: 0.0012 - val_loss: 9.2735e-04\n",
            "Epoch 21/50\n",
            "13686/13686 [==============================] - 404s 30ms/step - loss: 0.0012 - val_loss: 9.3163e-04\n",
            "Epoch 22/50\n",
            "13686/13686 [==============================] - 404s 30ms/step - loss: 0.0012 - val_loss: 9.3001e-04\n",
            "Epoch 23/50\n",
            "13686/13686 [==============================] - 405s 30ms/step - loss: 0.0012 - val_loss: 9.3405e-04\n",
            "Epoch 24/50\n",
            "13686/13686 [==============================] - 406s 30ms/step - loss: 0.0012 - val_loss: 9.2686e-04\n",
            "Epoch 25/50\n",
            "13686/13686 [==============================] - 405s 30ms/step - loss: 0.0012 - val_loss: 9.3457e-04\n",
            "Epoch 26/50\n",
            "13686/13686 [==============================] - 405s 30ms/step - loss: 0.0012 - val_loss: 9.5055e-04\n",
            "Epoch 27/50\n",
            "13686/13686 [==============================] - 406s 30ms/step - loss: 0.0012 - val_loss: 9.3855e-04\n",
            "Epoch 28/50\n",
            "13686/13686 [==============================] - 405s 30ms/step - loss: 0.0012 - val_loss: 9.2171e-04\n",
            "Epoch 29/50\n",
            "13686/13686 [==============================] - 401s 29ms/step - loss: 0.0012 - val_loss: 9.2676e-04\n",
            "Epoch 30/50\n",
            "13686/13686 [==============================] - 388s 28ms/step - loss: 0.0012 - val_loss: 9.2489e-04\n",
            "Epoch 31/50\n",
            "13686/13686 [==============================] - 386s 28ms/step - loss: 0.0012 - val_loss: 9.5967e-04\n",
            "Epoch 32/50\n",
            "13686/13686 [==============================] - 390s 28ms/step - loss: 0.0012 - val_loss: 9.2018e-04\n",
            "Epoch 33/50\n",
            "13686/13686 [==============================] - 387s 28ms/step - loss: 0.0012 - val_loss: 9.1934e-04\n",
            "Epoch 34/50\n",
            "13686/13686 [==============================] - 386s 28ms/step - loss: 0.0012 - val_loss: 9.1780e-04\n",
            "Epoch 35/50\n",
            "13686/13686 [==============================] - 392s 29ms/step - loss: 0.0012 - val_loss: 9.2558e-04\n",
            "Epoch 36/50\n",
            "13686/13686 [==============================] - 406s 30ms/step - loss: 0.0012 - val_loss: 9.2946e-04\n",
            "Epoch 37/50\n",
            "13686/13686 [==============================] - 405s 30ms/step - loss: 0.0012 - val_loss: 9.7042e-04\n",
            "Epoch 38/50\n",
            "13686/13686 [==============================] - 386s 28ms/step - loss: 0.0012 - val_loss: 9.3441e-04\n",
            "Epoch 39/50\n",
            "13686/13686 [==============================] - 389s 28ms/step - loss: 0.0012 - val_loss: 9.2528e-04\n",
            "Epoch 40/50\n",
            "13686/13686 [==============================] - 392s 29ms/step - loss: 0.0012 - val_loss: 9.3271e-04\n",
            "Epoch 41/50\n",
            "13686/13686 [==============================] - 387s 28ms/step - loss: 0.0012 - val_loss: 9.1098e-04\n",
            "Epoch 42/50\n",
            "13686/13686 [==============================] - 388s 28ms/step - loss: 0.0012 - val_loss: 9.2780e-04\n",
            "Epoch 43/50\n",
            "13686/13686 [==============================] - 402s 29ms/step - loss: 0.0012 - val_loss: 9.2514e-04\n",
            "Epoch 44/50\n",
            "13686/13686 [==============================] - 405s 30ms/step - loss: 0.0012 - val_loss: 9.1784e-04\n",
            "Epoch 45/50\n",
            "13686/13686 [==============================] - 404s 30ms/step - loss: 0.0012 - val_loss: 9.1465e-04\n",
            "Epoch 46/50\n",
            "13686/13686 [==============================] - 405s 30ms/step - loss: 0.0012 - val_loss: 9.1971e-04\n",
            "Epoch 47/50\n",
            "13686/13686 [==============================] - 405s 30ms/step - loss: 0.0012 - val_loss: 9.3319e-04\n",
            "Epoch 48/50\n",
            "13686/13686 [==============================] - 406s 30ms/step - loss: 0.0012 - val_loss: 9.2887e-04\n",
            "Epoch 49/50\n",
            "13686/13686 [==============================] - 396s 29ms/step - loss: 0.0012 - val_loss: 9.1226e-04\n",
            "Epoch 50/50\n",
            "13686/13686 [==============================] - 401s 29ms/step - loss: 0.0012 - val_loss: 9.1625e-04\n"
          ]
        },
        {
          "output_type": "execute_result",
          "data": {
            "text/plain": [
              "<keras.src.callbacks.History at 0x78e621ec4310>"
            ]
          },
          "metadata": {},
          "execution_count": 10
        }
      ]
    },
    {
      "cell_type": "code",
      "source": [
        "model.save('my_model.keras')"
      ],
      "metadata": {
        "id": "sQzNvmITeOEQ"
      },
      "execution_count": 19,
      "outputs": []
    },
    {
      "cell_type": "code",
      "source": [
        "from tensorflow.keras.models import load_model\n",
        "\n",
        "# Cargar el modelo\n",
        "new_model = load_model('my_model.keras')"
      ],
      "metadata": {
        "id": "TQhUrEsheT7K"
      },
      "execution_count": 20,
      "outputs": []
    },
    {
      "cell_type": "code",
      "source": [
        "# Evaluar el modelo con datos de prueba\n",
        "loss = new_model.evaluate(X_test, y_test)\n",
        "print(f\"Loss: {loss}\")"
      ],
      "metadata": {
        "colab": {
          "base_uri": "https://localhost:8080/"
        },
        "id": "67uSFK8qeXa2",
        "outputId": "ff40a618-c4ca-4456-ac8b-22b89ca047ca"
      },
      "execution_count": 21,
      "outputs": [
        {
          "output_type": "stream",
          "name": "stdout",
          "text": [
            "11420/11420 [==============================] - 117s 10ms/step - loss: 0.0014\n",
            "Loss: 0.001352919964119792\n"
          ]
        }
      ]
    },
    {
      "cell_type": "code",
      "source": [
        "predicted_sales = new_model.predict(X_test)"
      ],
      "metadata": {
        "colab": {
          "base_uri": "https://localhost:8080/"
        },
        "id": "GdD5OEVSe2Gn",
        "outputId": "fad39f64-6e87-4aa0-a846-d43facf7b9e7"
      },
      "execution_count": 22,
      "outputs": [
        {
          "output_type": "stream",
          "name": "stdout",
          "text": [
            "11420/11420 [==============================] - 116s 10ms/step\n"
          ]
        }
      ]
    },
    {
      "cell_type": "code",
      "source": [
        "from keras.models import load_model\n",
        "from sklearn.metrics import mean_absolute_error, mean_squared_error\n",
        "import numpy as np\n",
        "# Realizar predicciones en el conjunto de test\n",
        "predictions = new_model.predict(X_test)\n",
        "\n",
        "\n",
        "# Calcular las métricas de evaluación\n",
        "mae = mean_absolute_error(y_test, predictions)\n",
        "mse = mean_squared_error(y_test, predictions)\n",
        "rmse = np.sqrt(mse)  # La raíz cuadrada del MSE es el RMSE\n",
        "\n",
        "# Imprimir las métricas\n",
        "print(f'MAE: {mae}')\n",
        "print(f'MSE: {mse}')\n",
        "print(f'RMSE: {rmse}')\n"
      ],
      "metadata": {
        "colab": {
          "base_uri": "https://localhost:8080/"
        },
        "id": "CEr3A7gJktmP",
        "outputId": "dfce8f43-d76e-4902-8ceb-b460d0e1016d"
      },
      "execution_count": 27,
      "outputs": [
        {
          "output_type": "stream",
          "name": "stdout",
          "text": [
            "11420/11420 [==============================] - 118s 10ms/step\n",
            "MAE: 0.028124939863277777\n",
            "MSE: 0.0013529171084681877\n",
            "RMSE: 0.03678202153862927\n"
          ]
        }
      ]
    },
    {
      "cell_type": "code",
      "source": [
        "# Crear una figura y un set de subplots\n",
        "plt.figure(figsize=(15,6))\n",
        "\n",
        "# Dibujar los valores reales\n",
        "plt.plot(y_test, color='blue', label='Real')\n",
        "\n",
        "# Dibujar las predicciones\n",
        "plt.plot(predictions, color='red', alpha=0.7, label='Predicción')\n",
        "\n",
        "# Títulos y etiquetas\n",
        "plt.title('Predicciones vs Valores Reales')\n",
        "plt.xlabel('Índice de tiempo o cualquier otra etiqueta de eje X pertinente')\n",
        "plt.ylabel('Valor o cualquier otra etiqueta de eje Y pertinente')\n",
        "plt.legend()  # Muestra la leyenda\n",
        "\n",
        "# Mostrar la gráfica\n",
        "plt.show()"
      ],
      "metadata": {
        "colab": {
          "base_uri": "https://localhost:8080/",
          "height": 586
        },
        "id": "ptUP0NHgliLe",
        "outputId": "63d0078f-ed04-4639-a113-186e486ed064"
      },
      "execution_count": 28,
      "outputs": [
        {
          "output_type": "display_data",
          "data": {
            "text/plain": [
              "<Figure size 1500x600 with 1 Axes>"
            ],
            "image/png": "[encoded data removed]"
          },
          "metadata": {}
        }
      ]
    },
    {
      "cell_type": "markdown",
      "source": [
        "7. Ajuste de hiperparámetros"
      ],
      "metadata": {
        "id": "3TlIUbSSseQR"
      }
    },
    {
      "cell_type": "markdown",
      "source": [
        "\n",
        "Cambios realizados:\n",
        "\n",
        "*   BatchNormalization: Se aplicó normalización por lotes al inicio para facilitar el aprendizaje rápido y estable.\n",
        "*   Unidades y capas LSTM: Se aumentaron las unidades en la primera capa LSTM a 100 y se usaron un total de tres capas LSTM para capturar relaciones temporales más complejas.\n",
        "*   Dropout: Se implementó un 50% de dropout después de cada capa LSTM para combatir el sobreajuste.\n",
        "*   Optimizador: Se usó Adam con una tasa de aprendizaje de 0.001, que es un equilibrio entre la velocidad de entrenamiento y la capacidad de convergencia.\n",
        "*   Entrenamiento: Se entrenó el modelo durante 40 épocas con un tamaño de lote de 64. Estos números afectan cómo de rápido y qué tan bien el modelo puede aprender.\n",
        "*   Evaluación y Visualización: Se calculó MAE, MSE, y RMSE para evaluar el rendimiento, y luego se trazaron las predicciones en comparación con los valores reales para visualizar qué tan bien el modelo está prediciendo los datos.\n",
        "\n",
        "\n",
        "\n",
        "\n",
        "\n",
        "\n"
      ],
      "metadata": {
        "id": "TGFPFjxGuw6h"
      }
    },
    {
      "cell_type": "code",
      "source": [
        "from keras.models import Sequential\n",
        "from keras.layers import LSTM, Dropout, Dense, BatchNormalization\n",
        "from keras.optimizers import Adam\n",
        "import matplotlib.pyplot as plt\n",
        "from sklearn.metrics import mean_absolute_error, mean_squared_error\n",
        "import numpy as np\n",
        "\n",
        "# Construcción del modelo\n",
        "model = Sequential()\n",
        "\n",
        "# Normalización por lotes antes de las capas LSTM\n",
        "model.add(BatchNormalization(input_shape=(X_train.shape[1], 1)))\n",
        "\n",
        "# Aumento en el número de unidades, adición de más capas LSTM y aumento del dropout\n",
        "model.add(LSTM(units=100, return_sequences=True))  # Aumento a 100 unidades\n",
        "model.add(Dropout(0.5))  # Aumento al 50%\n",
        "model.add(LSTM(units=50, return_sequences=True))\n",
        "model.add(Dropout(0.5))  # Aumento al 50%\n",
        "model.add(LSTM(units=50))\n",
        "model.add(Dropout(0.5))  # Aumento al 50%\n",
        "\n",
        "# Capa de salida\n",
        "model.add(Dense(units=1))\n",
        "\n",
        "# Compilación del modelo con una tasa de aprendizaje modificada\n",
        "adam_optimizer = Adam(lr=0.001)\n",
        "model.compile(optimizer=adam_optimizer, loss='mean_squared_error')\n",
        "\n",
        "# Entrenamiento del modelo con más épocas y un tamaño de lote diferente\n",
        "history = model.fit(X_train, y_train, epochs=40, batch_size=64, validation_data=(X_val, y_val))\n",
        "\n",
        "# Realizar predicciones\n",
        "predictions = model.predict(X_test)\n",
        "\n",
        "# Calcular las métricas de evaluación\n",
        "mae = mean_absolute_error(y_test, predictions)\n",
        "mse = mean_squared_error(y_test, predictions)\n",
        "rmse = np.sqrt(mse)  # RMSE\n",
        "\n",
        "print(f'MAE: {mae}')\n",
        "print(f'MSE: {mse}')\n",
        "print(f'RMSE: {rmse}')\n",
        "\n",
        "# Crear una figura y un set de subplots\n",
        "plt.figure(figsize=(15,6))\n",
        "\n",
        "# Dibujar los valores reales\n",
        "plt.plot(y_test, color='blue', label='Real')\n",
        "\n",
        "# Dibujar las predicciones\n",
        "plt.plot(predictions, color='red', alpha=0.7, label='Predicción')\n",
        "\n",
        "# Títulos y etiquetas\n",
        "plt.title('Predicciones vs Valores Reales')\n",
        "plt.xlabel('Índice de tiempo')\n",
        "plt.ylabel('Valor')\n",
        "plt.legend()\n",
        "\n",
        "# Mostrar la gráfica\n",
        "plt.show()\n"
      ],
      "metadata": {
        "colab": {
          "base_uri": "https://localhost:8080/"
        },
        "id": "yUidB8TwnFDH",
        "outputId": "13dc2d2f-9d8d-417e-aff7-30b780509bcd"
      },
      "execution_count": null,
      "outputs": [
        {
          "metadata": {
            "tags": null
          },
          "name": "stderr",
          "output_type": "stream",
          "text": [
            "WARNING:absl:`lr` is deprecated in Keras optimizer, please use `learning_rate` or use the legacy optimizer, e.g.,tf.keras.optimizers.legacy.Adam.\n"
          ]
        },
        {
          "output_type": "stream",
          "name": "stdout",
          "text": [
            "Epoch 1/40\n",
            "6843/6843 [==============================] - 662s 96ms/step - loss: 0.0027 - val_loss: 0.0014\n",
            "Epoch 2/40\n",
            "6843/6843 [==============================] - 637s 93ms/step - loss: 0.0019 - val_loss: 0.0013\n",
            "Epoch 3/40\n",
            "6843/6843 [==============================] - 641s 94ms/step - loss: 0.0018 - val_loss: 0.0010\n",
            "Epoch 4/40\n",
            "6843/6843 [==============================] - 641s 94ms/step - loss: 0.0021 - val_loss: 0.0012\n",
            "Epoch 5/40\n",
            "6843/6843 [==============================] - 641s 94ms/step - loss: 0.0019 - val_loss: 0.0014\n",
            "Epoch 6/40\n",
            "6843/6843 [==============================] - 642s 94ms/step - loss: 0.0020 - val_loss: 0.0010\n",
            "Epoch 7/40\n",
            "6843/6843 [==============================] - 632s 92ms/step - loss: 0.0021 - val_loss: 0.0014\n",
            "Epoch 8/40\n",
            "6843/6843 [==============================] - 635s 93ms/step - loss: 0.0022 - val_loss: 0.0017\n",
            "Epoch 9/40\n",
            "6843/6843 [==============================] - 634s 93ms/step - loss: 0.0029 - val_loss: 0.0017\n",
            "Epoch 10/40\n",
            "6843/6843 [==============================] - 636s 93ms/step - loss: 0.0023 - val_loss: 0.0011\n",
            "Epoch 11/40\n",
            "6843/6843 [==============================] - 663s 97ms/step - loss: 0.0021 - val_loss: 0.0010\n",
            "Epoch 12/40\n",
            "6843/6843 [==============================] - 625s 91ms/step - loss: 0.0019 - val_loss: 0.0010\n",
            "Epoch 13/40\n",
            "6843/6843 [==============================] - 623s 91ms/step - loss: 0.0018 - val_loss: 0.0010\n",
            "Epoch 14/40\n",
            "6843/6843 [==============================] - 626s 91ms/step - loss: 0.0018 - val_loss: 9.9778e-04\n",
            "Epoch 15/40\n",
            "6843/6843 [==============================] - 644s 94ms/step - loss: 0.0018 - val_loss: 9.6716e-04\n",
            "Epoch 16/40\n",
            "6843/6843 [==============================] - 638s 93ms/step - loss: 0.0017 - val_loss: 9.9023e-04\n",
            "Epoch 17/40\n",
            "6843/6843 [==============================] - 643s 94ms/step - loss: 0.0017 - val_loss: 9.7533e-04\n",
            "Epoch 18/40\n",
            "6843/6843 [==============================] - 635s 93ms/step - loss: 0.0017 - val_loss: 9.5995e-04\n",
            "Epoch 19/40\n",
            "6843/6843 [==============================] - 622s 91ms/step - loss: 0.0017 - val_loss: 9.6211e-04\n",
            "Epoch 20/40\n",
            "6843/6843 [==============================] - 624s 91ms/step - loss: 0.0019 - val_loss: 0.0010\n",
            "Epoch 21/40\n",
            "6843/6843 [==============================] - 627s 92ms/step - loss: 0.0018 - val_loss: 0.0011\n",
            "Epoch 22/40\n",
            "6843/6843 [==============================] - 638s 93ms/step - loss: 0.0018 - val_loss: 0.0010\n",
            "Epoch 23/40\n",
            "6843/6843 [==============================] - 632s 92ms/step - loss: 0.0023 - val_loss: 0.0014\n",
            "Epoch 24/40\n",
            "6843/6843 [==============================] - 643s 94ms/step - loss: 0.0024 - val_loss: 0.0015\n",
            "Epoch 25/40\n",
            "6843/6843 [==============================] - 644s 94ms/step - loss: 0.0024 - val_loss: 0.0013\n",
            "Epoch 26/40\n",
            "5640/6843 [=======================>......] - ETA: 1:44 - loss: 0.0022"
          ]
        }
      ]
    },
    {
      "cell_type": "markdown",
      "source": [
        "8. Forescasting"
      ],
      "metadata": {
        "id": "HqtSg4pGwBrA"
      }
    },
    {
      "cell_type": "markdown",
      "source": [
        "9. Visualización"
      ],
      "metadata": {
        "id": "d5D-eKw7wDoA"
      }
    },
    {
      "cell_type": "markdown",
      "source": [
        "10. Interpretabilidad del modelo"
      ],
      "metadata": {
        "id": "4DtS7bhowGPO"
      }
    }
  ]
}